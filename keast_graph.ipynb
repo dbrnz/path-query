{
 "cells": [
  {
   "cell_type": "code",
   "execution_count": 49,
   "id": "23b60c1c",
   "metadata": {},
   "outputs": [
    {
     "name": "stdout",
     "output_type": "stream",
     "text": [
      "The autoreload extension is already loaded. To reload it, use:\n",
      "  %reload_ext autoreload\n"
     ]
    }
   ],
   "source": [
    "%load_ext autoreload\n",
    "%autoreload 2"
   ]
  },
  {
   "cell_type": "code",
   "execution_count": 50,
   "id": "814491d7-bbef-4270-8198-b82d473af030",
   "metadata": {},
   "outputs": [],
   "source": [
    "import ipycytoscape\n",
    "import ipywidgets as widgets\n",
    "\n",
    "from connected_pairs import *\n",
    "\n",
    "connectivity = Connectivity('http://sparc-data.scicrunch.io:9000/scigraph')"
   ]
  },
  {
   "cell_type": "code",
   "execution_count": 51,
   "id": "0e657a90-42fe-4978-a350-015e0ac2d072",
   "metadata": {},
   "outputs": [],
   "source": [
    "style = [\n",
    "       { 'selector': 'node',\n",
    "         'style': {\n",
    "             'label': 'data(id)',\n",
    "             'background-color': '#80F0F0',\n",
    "             'text-valign': 'center',\n",
    "             'text-wrap': 'wrap',\n",
    "             'text-max-width': '80px',\n",
    "             'font-size': '10px'\n",
    "         }\n",
    "       },\n",
    "       { 'selector': 'edge.directed',\n",
    "         'style': {\n",
    "             'width': 2,\n",
    "             'line-color': '#9dbaea',\n",
    "             'mid-target-arrow-shape': 'triangle',\n",
    "             'mid-target-arrow-color': '#8090c0',\n",
    "         }\n",
    "       }\n",
    "]"
   ]
  },
  {
   "cell_type": "code",
   "execution_count": 52,
   "id": "702f6983-fe85-4cf2-ba0e-bf0734d6aed6",
   "metadata": {},
   "outputs": [],
   "source": [
    "def get_graphs(pop_id):\n",
    "    G = connectivity.connectivity_graph(pop_id, pdf=False, text=False)\n",
    "    g = ipycytoscape.CytoscapeWidget()\n",
    "    g.graph.add_graph_from_networkx(G, directed=True)\n",
    "    g.set_style(style)\n",
    "    return (g, G)"
   ]
  },
  {
   "cell_type": "code",
   "execution_count": 53,
   "id": "adaeb37d-a9a1-4ca9-8029-14baf677e324",
   "metadata": {},
   "outputs": [],
   "source": [
    "graphs = [get_graphs(f'ilxtr:neuron-type-keast-{id+1}')[0] for id in range(21)]"
   ]
  },
  {
   "cell_type": "code",
   "execution_count": 54,
   "id": "bebbefe9-d15a-4a23-9559-91b7fa4610cf",
   "metadata": {},
   "outputs": [
    {
     "data": {
      "application/vnd.jupyter.widget-view+json": {
       "model_id": "4fe1fc4aef2a44a1992b8cd2947cc430",
       "version_major": 2,
       "version_minor": 0
      },
      "text/plain": [
       "CytoscapeWidget(cytoscape_layout={'name': 'cola'}, cytoscape_style=[{'selector': 'node', 'style': {'label': 'd…"
      ]
     },
     "metadata": {},
     "output_type": "display_data"
    }
   ],
   "source": [
    "graphs[9]"
   ]
  }
 ],
 "metadata": {
  "kernelspec": {
   "display_name": "Python 3 (ipykernel)",
   "language": "python",
   "name": "python3"
  },
  "language_info": {
   "codemirror_mode": {
    "name": "ipython",
    "version": 3
   },
   "file_extension": ".py",
   "mimetype": "text/x-python",
   "name": "python",
   "nbconvert_exporter": "python",
   "pygments_lexer": "ipython3",
   "version": "3.8.12"
  },
  "widgets": {
   "application/vnd.jupyter.widget-state+json": {
    "state": {
     "097d2b87e83f44e09408997de1509ee9": {
      "model_module": "jupyter-cytoscape",
      "model_module_version": "^1.2.2",
      "model_name": "NodeModel",
      "state": {
       "_model_module_version": "^1.2.2",
       "_view_module_version": "^1.2.2",
       "data": {
        "id": "None\nUBERON:0016508"
       },
       "grabbable": true,
       "grabbed": false,
       "position": {
        "x": 428.53906499451176,
        "y": 151.47027144382312
       },
       "selectable": false
      }
     },
     "0c8d252e7f7f4fe3ae391348f2b067b5": {
      "model_module": "jupyter-cytoscape",
      "model_module_version": "^1.2.2",
      "model_name": "NodeModel",
      "state": {
       "_model_module_version": "^1.2.2",
       "_view_module_version": "^1.2.2",
       "data": {
        "id": "None\nEMAPA:31526"
       },
       "grabbable": true,
       "grabbed": false,
       "position": {
        "x": 356.55751042830803,
        "y": 221.64544251868145
       },
       "selectable": false
      }
     },
     "21f3bf5862ec43f8aeb064a055193ccb": {
      "model_module": "@jupyter-widgets/base",
      "model_module_version": "1.2.0",
      "model_name": "LayoutModel",
      "state": {}
     },
     "26d53ca23fd14d12a1d7dff3cab63a9b": {
      "model_module": "jupyter-cytoscape",
      "model_module_version": "^1.2.2",
      "model_name": "NodeModel",
      "state": {
       "_model_module_version": "^1.2.2",
       "_view_module_version": "^1.2.2",
       "data": {
        "id": "None\nNone"
       },
       "grabbable": true,
       "grabbed": false,
       "position": {
        "x": 314.0543241351022,
        "y": 312.7463645122487
       },
       "selectable": false
      }
     },
     "634094583626456091b232c1a6da4eca": {
      "model_module": "jupyter-cytoscape",
      "model_module_version": "^1.2.2",
      "model_name": "GraphModel",
      "state": {
       "_adj": {},
       "_model_module_version": "^1.2.2",
       "_view_module": "jupyter-cytoscape",
       "_view_module_version": "^1.2.2"
      }
     },
     "72704787227c4bf9acb4e19d05cd5748": {
      "model_module": "jupyter-cytoscape",
      "model_module_version": "^1.2.2",
      "model_name": "CytoscapeModel",
      "state": {
       "_interaction_handlers": {},
       "_model_module_version": "^1.2.2",
       "_view_module_version": "^1.2.2",
       "auto_ungrabify": false,
       "autolock": false,
       "cytoscape_layout": {
        "name": "cola"
       },
       "cytoscape_style": [
        {
         "selector": "node",
         "style": {
          "background-color": "#80F0F0",
          "font-size": "10px",
          "label": "data(id)",
          "text-max-width": "80px",
          "text-valign": "center",
          "text-wrap": "wrap"
         }
        },
        {
         "selector": "edge.directed",
         "style": {
          "line-color": "#9dbaea",
          "mid-target-arrow-color": "#8090c0",
          "mid-target-arrow-shape": "triangle",
          "width": 2
         }
        }
       ],
       "desktop_tap_threshold": 4,
       "graph": "IPY_MODEL_ae671c559d5f47599e6974b33b705547",
       "headless": false,
       "hide_edges_on_viewport": false,
       "layout": "IPY_MODEL_21f3bf5862ec43f8aeb064a055193ccb",
       "max_zoom": 1e+50,
       "min_zoom": 1e-50,
       "motion_blur": false,
       "motion_blur_opacity": 0.2,
       "panning_enabled": true,
       "pixel_ratio": "auto",
       "rendered_position": {
        "renderedPosition": {
         "x": 100,
         "y": 100
        }
       },
       "selection_type": "single",
       "style_enabled": true,
       "texture_on_viewport": false,
       "tooltip_source": "tooltip",
       "touch_tap_threshold": 8,
       "user_panning_enabled": true,
       "user_zooming_enabled": true,
       "wheel_sensitivity": 1,
       "zoom": 2,
       "zooming_enabled": true
      }
     },
     "8c1d311e008b410ba28be6e743adb674": {
      "model_module": "jupyter-cytoscape",
      "model_module_version": "^1.2.2",
      "model_name": "EdgeModel",
      "state": {
       "_model_module_version": "^1.2.2",
       "_view_module_version": "^1.2.2",
       "classes": " directed ",
       "data": {
        "directed": true,
        "id": "0",
        "source": "None\nUBERON:0016508",
        "target": "None\nEMAPA:31526"
       },
       "selectable": false
      }
     },
     "ae671c559d5f47599e6974b33b705547": {
      "model_module": "jupyter-cytoscape",
      "model_module_version": "^1.2.2",
      "model_name": "GraphModel",
      "state": {
       "_adj": {
        "None\nEMAPA:31526": {},
        "None\nNone": {},
        "None\nUBERON:0016508": {}
       },
       "_model_module_version": "^1.2.2",
       "_view_module": "jupyter-cytoscape",
       "_view_module_version": "^1.2.2",
       "edges": [
        "IPY_MODEL_8c1d311e008b410ba28be6e743adb674",
        "IPY_MODEL_efa0ba0d0ee1440988ca8eaa40bc1396"
       ],
       "nodes": [
        "IPY_MODEL_097d2b87e83f44e09408997de1509ee9",
        "IPY_MODEL_0c8d252e7f7f4fe3ae391348f2b067b5",
        "IPY_MODEL_26d53ca23fd14d12a1d7dff3cab63a9b"
       ]
      }
     },
     "efa0ba0d0ee1440988ca8eaa40bc1396": {
      "model_module": "jupyter-cytoscape",
      "model_module_version": "^1.2.2",
      "model_name": "EdgeModel",
      "state": {
       "_model_module_version": "^1.2.2",
       "_view_module_version": "^1.2.2",
       "classes": " directed ",
       "data": {
        "directed": true,
        "id": "14",
        "source": "None\nEMAPA:31526",
        "target": "None\nNone"
       },
       "selectable": false
      }
     }
    },
    "version_major": 2,
    "version_minor": 0
   }
  }
 },
 "nbformat": 4,
 "nbformat_minor": 5
}
